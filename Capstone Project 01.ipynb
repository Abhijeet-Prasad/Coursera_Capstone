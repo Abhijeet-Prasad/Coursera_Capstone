{
 "cells": [
  {
   "cell_type": "markdown",
   "id": "774bd26d-8546-4abd-8473-cb3d154b81e0",
   "metadata": {},
   "source": [
    "__This notebook is mainly meant to be used for the Coursera Capstone project.__"
   ]
  },
  {
   "cell_type": "code",
   "execution_count": 3,
   "id": "a05b449f-af53-4406-aacf-a30b4955ec45",
   "metadata": {},
   "outputs": [],
   "source": [
    "# Import library\n",
    "import pandas as pd\n",
    "import numpy as np"
   ]
  },
  {
   "cell_type": "code",
   "execution_count": 4,
   "id": "02c1d04a-63ac-4452-badf-6cb95dc15446",
   "metadata": {},
   "outputs": [
    {
     "name": "stdout",
     "output_type": "stream",
     "text": [
      "Hello Capstone Project Course!\n"
     ]
    }
   ],
   "source": [
    "# Print statement\n",
    "print('Hello Capstone Project Course!')"
   ]
  }
 ],
 "metadata": {
  "kernelspec": {
   "display_name": "Python",
   "language": "python",
   "name": "conda-env-python-py"
  },
  "language_info": {
   "codemirror_mode": {
    "name": "ipython",
    "version": 3
   },
   "file_extension": ".py",
   "mimetype": "text/x-python",
   "name": "python",
   "nbconvert_exporter": "python",
   "pygments_lexer": "ipython3",
   "version": "3.6.13"
  }
 },
 "nbformat": 4,
 "nbformat_minor": 5
}
